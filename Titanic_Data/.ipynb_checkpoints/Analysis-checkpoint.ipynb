{
 "cells": [
  {
   "cell_type": "markdown",
   "metadata": {},
   "source": [
    "# Titanic Data Analysis\n",
    "By Nancy Gomez"
   ]
  },
  {
   "cell_type": "markdown",
   "metadata": {},
   "source": [
    "### Questions:\n",
    "General: Which factors made people more likely to survive?\n",
    "1. Did gender affect survivablity? Which gender was most likely to survive?\n",
    "2. Did age affect survivability? Which age group was most likely to survive?\n",
    "3. Did class affect survivability? Which class was most likely to survive?"
   ]
  },
  {
   "cell_type": "markdown",
   "metadata": {},
   "source": [
    "### Hypotheses:\n",
    "Alternative Hypothesis: If gender was related in any way to the survivability, then females will be more likely to survive compared to men.\n",
    "\n",
    "Null Hypothesis: A person's gender didn't affect their survivability."
   ]
  },
  {
   "cell_type": "markdown",
   "metadata": {},
   "source": [
    "Alternative Hypothesis: If age was related in any way to the survivability, then young adults (ages 20 - 30) were more likely to survive compared to all the other age groups.\n",
    "\n",
    "Null Hypothesis: A person's age didn't affect their survivability."
   ]
  },
  {
   "cell_type": "markdown",
   "metadata": {},
   "source": [
    "Alternative Hypothesis: If class was related in any way to survivability, then the wealthiest class would be more likely to survive.\n",
    "\n",
    "Null Hypothesis: A person's class didn't affect their survivability."
   ]
  },
  {
   "cell_type": "markdown",
   "metadata": {},
   "source": [
    "### Data Wrangling Code:"
   ]
  },
  {
   "cell_type": "code",
   "execution_count": 348,
   "metadata": {
    "collapsed": false,
    "scrolled": true
   },
   "outputs": [
    {
     "data": {
      "text/html": [
       "<div>\n",
       "<table border=\"1\" class=\"dataframe\">\n",
       "  <thead>\n",
       "    <tr style=\"text-align: right;\">\n",
       "      <th></th>\n",
       "      <th>PassengerId</th>\n",
       "      <th>Survived</th>\n",
       "      <th>Pclass</th>\n",
       "      <th>Name</th>\n",
       "      <th>Sex</th>\n",
       "      <th>Age</th>\n",
       "      <th>SibSp</th>\n",
       "      <th>Parch</th>\n",
       "      <th>Ticket</th>\n",
       "      <th>Fare</th>\n",
       "      <th>Cabin</th>\n",
       "      <th>Embarked</th>\n",
       "    </tr>\n",
       "  </thead>\n",
       "  <tbody>\n",
       "    <tr>\n",
       "      <th>0</th>\n",
       "      <td>1</td>\n",
       "      <td>0</td>\n",
       "      <td>3</td>\n",
       "      <td>Braund, Mr. Owen Harris</td>\n",
       "      <td>male</td>\n",
       "      <td>22.0</td>\n",
       "      <td>1</td>\n",
       "      <td>0</td>\n",
       "      <td>A/5 21171</td>\n",
       "      <td>7.2500</td>\n",
       "      <td>NaN</td>\n",
       "      <td>S</td>\n",
       "    </tr>\n",
       "    <tr>\n",
       "      <th>1</th>\n",
       "      <td>2</td>\n",
       "      <td>1</td>\n",
       "      <td>1</td>\n",
       "      <td>Cumings, Mrs. John Bradley (Florence Briggs Th...</td>\n",
       "      <td>female</td>\n",
       "      <td>38.0</td>\n",
       "      <td>1</td>\n",
       "      <td>0</td>\n",
       "      <td>PC 17599</td>\n",
       "      <td>71.2833</td>\n",
       "      <td>C85</td>\n",
       "      <td>C</td>\n",
       "    </tr>\n",
       "    <tr>\n",
       "      <th>2</th>\n",
       "      <td>3</td>\n",
       "      <td>1</td>\n",
       "      <td>3</td>\n",
       "      <td>Heikkinen, Miss. Laina</td>\n",
       "      <td>female</td>\n",
       "      <td>26.0</td>\n",
       "      <td>0</td>\n",
       "      <td>0</td>\n",
       "      <td>STON/O2. 3101282</td>\n",
       "      <td>7.9250</td>\n",
       "      <td>NaN</td>\n",
       "      <td>S</td>\n",
       "    </tr>\n",
       "    <tr>\n",
       "      <th>3</th>\n",
       "      <td>4</td>\n",
       "      <td>1</td>\n",
       "      <td>1</td>\n",
       "      <td>Futrelle, Mrs. Jacques Heath (Lily May Peel)</td>\n",
       "      <td>female</td>\n",
       "      <td>35.0</td>\n",
       "      <td>1</td>\n",
       "      <td>0</td>\n",
       "      <td>113803</td>\n",
       "      <td>53.1000</td>\n",
       "      <td>C123</td>\n",
       "      <td>S</td>\n",
       "    </tr>\n",
       "    <tr>\n",
       "      <th>4</th>\n",
       "      <td>5</td>\n",
       "      <td>0</td>\n",
       "      <td>3</td>\n",
       "      <td>Allen, Mr. William Henry</td>\n",
       "      <td>male</td>\n",
       "      <td>35.0</td>\n",
       "      <td>0</td>\n",
       "      <td>0</td>\n",
       "      <td>373450</td>\n",
       "      <td>8.0500</td>\n",
       "      <td>NaN</td>\n",
       "      <td>S</td>\n",
       "    </tr>\n",
       "  </tbody>\n",
       "</table>\n",
       "</div>"
      ],
      "text/plain": [
       "   PassengerId  Survived  Pclass  \\\n",
       "0            1         0       3   \n",
       "1            2         1       1   \n",
       "2            3         1       3   \n",
       "3            4         1       1   \n",
       "4            5         0       3   \n",
       "\n",
       "                                                Name     Sex   Age  SibSp  \\\n",
       "0                            Braund, Mr. Owen Harris    male  22.0      1   \n",
       "1  Cumings, Mrs. John Bradley (Florence Briggs Th...  female  38.0      1   \n",
       "2                             Heikkinen, Miss. Laina  female  26.0      0   \n",
       "3       Futrelle, Mrs. Jacques Heath (Lily May Peel)  female  35.0      1   \n",
       "4                           Allen, Mr. William Henry    male  35.0      0   \n",
       "\n",
       "   Parch            Ticket     Fare Cabin Embarked  \n",
       "0      0         A/5 21171   7.2500   NaN        S  \n",
       "1      0          PC 17599  71.2833   C85        C  \n",
       "2      0  STON/O2. 3101282   7.9250   NaN        S  \n",
       "3      0            113803  53.1000  C123        S  \n",
       "4      0            373450   8.0500   NaN        S  "
      ]
     },
     "execution_count": 348,
     "metadata": {},
     "output_type": "execute_result"
    }
   ],
   "source": [
    "import numpy as np\n",
    "import pandas as pd\n",
    "import seaborn as sns\n",
    "import matplotlib.pyplot as plt\n",
    "from collections import Counter\n",
    "from pandas import DataFrame\n",
    "%matplotlib inline\n",
    "data_df = pd.read_csv('titanic_data.csv')\n",
    "data_df.head()"
   ]
  },
  {
   "cell_type": "markdown",
   "metadata": {},
   "source": [
    "##### Cleaning up Data:\n",
    "After I checked the dataframe using the head() function, I saw the categories that the data offers and realized some were not necessary to keep. The data I figured would in no way affect survivability were Ticket, Name, Embarkment, Cabin, and Fare. I also noticed that some sections had the value \"NaN,\" meaning that some data was missing. I decided I needed to check how many values were missing for the categories to establish my approach."
   ]
  },
  {
   "cell_type": "markdown",
   "metadata": {},
   "source": [
    "##### Helper Print Functions:\n",
    "All the helper print functions are located here for organizational purposes :)"
   ]
  },
  {
   "cell_type": "markdown",
   "metadata": {},
   "source": [
    "In order to check the empty data, I realized I could create a general function that takes in the data frame and checks for null values. It prints the total missing values as well as its corresponding percentage."
   ]
  },
  {
   "cell_type": "code",
   "execution_count": 349,
   "metadata": {
    "collapsed": true
   },
   "outputs": [],
   "source": [
    "def printEmptyData(dataframe, label):\n",
    "    empty = pd.isnull(dataframe[label])\n",
    "    empty_percent = len(empty[empty == True]) / float(len(dataframe[label])) * 100\n",
    "    print len(empty[empty == True]), '= {0:.2f}%'.format(empty_percent)"
   ]
  },
  {
   "cell_type": "markdown",
   "metadata": {},
   "source": [
    "This function is used to print the total number of a categories start through end within the data in label from the dataframe "
   ]
  },
  {
   "cell_type": "code",
   "execution_count": 350,
   "metadata": {
    "collapsed": true
   },
   "outputs": [],
   "source": [
    "def printPortion(start, end, dataframe, label):\n",
    "    for i in range (start, end):\n",
    "        portion =  len(dataframe[label][dataframe[label] == i])\n",
    "        percent = portion / float(len(dataframe[label])) * 100\n",
    "        print '{} ({}): {} people, {:.2f}%'.format(label, i, portion, percent)"
   ]
  },
  {
   "cell_type": "markdown",
   "metadata": {},
   "source": [
    "In order to print the total number of survivors / deaths within a category (label) from the dataframe"
   ]
  },
  {
   "cell_type": "code",
   "execution_count": 351,
   "metadata": {
    "collapsed": false
   },
   "outputs": [],
   "source": [
    "def printStats(start, end, dataframe, label):\n",
    "    for i in range(start, end):\n",
    "        survivors = dataframe[dataframe['Survived'] == 1]\n",
    "        casualties = dataframe[dataframe['Survived'] == 0]\n",
    "    \n",
    "        label_survivors = len(survivors[survivors[label] == i])\n",
    "        label_casualties = len(casualties[casualties[label] == i])\n",
    "    \n",
    "        s_percent = label_survivors / float(len(dataframe[dataframe[label] == i])) * 100\n",
    "        c_percent = label_casualties / float(len(dataframe[dataframe[label] == i])) * 100\n",
    "\n",
    "        print (\"{} ({}) Survivors: {} people, {:.2f}%\\tCasualties: {} people, {:.2f}%\"\n",
    "               .format(label, i, label_survivors, s_percent, label_casualties, c_percent)).expandtabs(25)"
   ]
  },
  {
   "cell_type": "code",
   "execution_count": 352,
   "metadata": {
    "collapsed": false
   },
   "outputs": [
    {
     "name": "stdout",
     "output_type": "stream",
     "text": [
      "0 = 0.00%\n"
     ]
    }
   ],
   "source": [
    "printEmptyData(data_df, 'Sex')"
   ]
  },
  {
   "cell_type": "code",
   "execution_count": 353,
   "metadata": {
    "collapsed": false
   },
   "outputs": [
    {
     "name": "stdout",
     "output_type": "stream",
     "text": [
      "177 = 19.87%\n"
     ]
    }
   ],
   "source": [
    "printEmptyData(data_df, 'Age')"
   ]
  },
  {
   "cell_type": "code",
   "execution_count": 354,
   "metadata": {
    "collapsed": false
   },
   "outputs": [
    {
     "name": "stdout",
     "output_type": "stream",
     "text": [
      "0 = 0.00%\n"
     ]
    }
   ],
   "source": [
    "printEmptyData(data_df, 'Pclass')"
   ]
  },
  {
   "cell_type": "markdown",
   "metadata": {},
   "source": [
    "##### Decision on Data:\n",
    "In terms of the missing data for the age, I decided that there is too much information missing within the age category to come to any solid conclusions. The percentage of missing data is nearly 20%, and since this percentage is so high, I disregarded using the mean substitution method (where all the null values are replaced with the overall mean of the data) since it would alter the data too much. Instead, to deal with the missing data, I plan to only observe the data that is present. Luckily, matplotlib takes care of this for me internally for numeric data."
   ]
  },
  {
   "cell_type": "markdown",
   "metadata": {},
   "source": [
    "Regardless of the amount of data that is presented, I don't plan to use the Name, Ticket, Cabin, Embarkment, or Fare categories so I will delete these. I only plan to dwell into the Sex, Age, and Pclass, so I also decided to delete the SibSp and Parch categories. "
   ]
  },
  {
   "cell_type": "code",
   "execution_count": 355,
   "metadata": {
    "collapsed": false
   },
   "outputs": [],
   "source": [
    "del data_df['Cabin']; del data_df['Ticket']; del data_df['Fare'];\n",
    "del data_df['SibSp']; del data_df['Parch']; del data_df['Embarked']"
   ]
  },
  {
   "cell_type": "markdown",
   "metadata": {},
   "source": [
    "#### Statistical Functions:\n",
    "Standardizing data is important to accurately interpret how far it is from the mean. The argument \"ddof = 0\" simply allows us to check the uncorrected standardized data (which is essential for calculating Pearson' R)"
   ]
  },
  {
   "cell_type": "code",
   "execution_count": 356,
   "metadata": {
    "collapsed": true
   },
   "outputs": [],
   "source": [
    "def standardizeData(values):\n",
    "    standardized_values = (values - values.mean()) / values.std(ddof = 0)\n",
    "    return standardized_values"
   ]
  },
  {
   "cell_type": "markdown",
   "metadata": {},
   "source": [
    "In order to determine whether two data sets have a correlation or not, we can calculate Pearson's R and then calculate the \n",
    "percentage of the correlation by taking the absolute value and moving the decimal point. Above 50% means the correlation is significant, and below is irrelevant."
   ]
  },
  {
   "cell_type": "code",
   "execution_count": 357,
   "metadata": {
    "collapsed": false
   },
   "outputs": [],
   "source": [
    "def correlation(values1, values2):\n",
    "    std_1 = standardizeData(values1)\n",
    "    std_2 = standardizeData(values2)\n",
    "    pearsons_r = abs((std_1 * std_2).mean()) * 100\n",
    "    return float('{0:.2f}'.format(pearsons_r))"
   ]
  },
  {
   "cell_type": "markdown",
   "metadata": {},
   "source": [
    "#### Visual Functions"
   ]
  },
  {
   "cell_type": "code",
   "execution_count": 358,
   "metadata": {
    "collapsed": false
   },
   "outputs": [],
   "source": [
    "def graphBy(dataframe, label1, label2):\n",
    "    for survive, group in dataframe.groupby(label1)[label2]:\n",
    "        plt.figure(); group.hist()\n",
    "        plt.xlabel(label2); plt.ylabel('Number of People')\n",
    "        if (survive):\n",
    "            plt.title('Survivors')\n",
    "        else:\n",
    "            plt.title('Casualties')"
   ]
  },
  {
   "cell_type": "code",
   "execution_count": 359,
   "metadata": {
    "collapsed": false
   },
   "outputs": [],
   "source": [
    "def plotBySurvival(dataframe, label):\n",
    "    for survive in range (0, 2):\n",
    "        count = Counter(data_df[data_df['Survived'] == survive][label])\n",
    "        df = pd.DataFrame.from_dict(count, orient='index')\n",
    "        df.plot(kind='bar'); plt.xlabel(label); plt.ylabel('Number of People')\n",
    "        if (survive):\n",
    "            plt.title('Survivors')\n",
    "        else:\n",
    "            plt.title('Casualties')"
   ]
  },
  {
   "cell_type": "code",
   "execution_count": 360,
   "metadata": {
    "collapsed": true
   },
   "outputs": [],
   "source": [
    "def graphPieBySurvival(dataframe, label, value):\n",
    "    survivors = dataframe[dataframe['Survived'] == 1]\n",
    "    casualties = dataframe[dataframe['Survived'] == 0]\n",
    "    \n",
    "    label_survivors = len(survivors[survivors[label] == value])\n",
    "    label_casualties = len(casualties[casualties[label] == value])\n",
    "    \n",
    "    data = pd.Series([label_survivors, label_casualties],\n",
    "                     index = [value.title() + ' Survivors',value.title() + ' Deaths'],\n",
    "                     name = value.title())\n",
    "    data.plot('pie')"
   ]
  },
  {
   "cell_type": "markdown",
   "metadata": {},
   "source": [
    "#### Age Survival Graphs:"
   ]
  },
  {
   "cell_type": "code",
   "execution_count": 361,
   "metadata": {
    "collapsed": false
   },
   "outputs": [
    {
     "data": {
      "image/png": "[encoded data removed]",
      "text/plain": [
       "<matplotlib.figure.Figure at 0xd7814a8>"
      ]
     },
     "metadata": {},
     "output_type": "display_data"
    },
    {
     "data": {
      "image/png": "[encoded data removed]",
      "text/plain": [
       "<matplotlib.figure.Figure at 0xd781978>"
      ]
     },
     "metadata": {},
     "output_type": "display_data"
    }
   ],
   "source": [
    "graphBy(data_df, 'Survived', 'Age')"
   ]
  },
  {
   "cell_type": "markdown",
   "metadata": {},
   "source": [
    "#### Sex Survival Graphs:"
   ]
  },
  {
   "cell_type": "code",
   "execution_count": 362,
   "metadata": {
    "collapsed": false
   },
   "outputs": [
    {
     "data": {
      "image/png": "[encoded data removed]",
      "text/plain": [
       "<matplotlib.figure.Figure at 0xe670048>"
      ]
     },
     "metadata": {},
     "output_type": "display_data"
    }
   ],
   "source": [
    "graphPieBySurvival(data_df, 'Sex', 'male')"
   ]
  },
  {
   "cell_type": "code",
   "execution_count": 363,
   "metadata": {
    "collapsed": false
   },
   "outputs": [
    {
     "data": {
      "image/png": "[encoded data removed]",
      "text/plain": [
       "<matplotlib.figure.Figure at 0xb06c860>"
      ]
     },
     "metadata": {},
     "output_type": "display_data"
    }
   ],
   "source": [
    "graphPieBySurvival(data_df, 'Sex', 'female')"
   ]
  },
  {
   "cell_type": "markdown",
   "metadata": {},
   "source": [
    "#### Class Survival Graphs:"
   ]
  },
  {
   "cell_type": "code",
   "execution_count": 364,
   "metadata": {
    "collapsed": false
   },
   "outputs": [
    {
     "data": {
      "image/png": "[encoded data removed]",
      "text/plain": [
       "<matplotlib.figure.Figure at 0xf1ccef0>"
      ]
     },
     "metadata": {},
     "output_type": "display_data"
    },
    {
     "data": {
      "image/png": "[encoded data removed]",
      "text/plain": [
       "<matplotlib.figure.Figure at 0xddd4cf8>"
      ]
     },
     "metadata": {},
     "output_type": "display_data"
    }
   ],
   "source": [
    "plotBySurvival(data_df, 'Pclass')"
   ]
  },
  {
   "cell_type": "markdown",
   "metadata": {},
   "source": [
    "# Analysis:\n",
    "In order to check the correlation between the data, it must all be numerical. So I changed the strings to corresponding numeric values starting from 0."
   ]
  },
  {
   "cell_type": "code",
   "execution_count": 365,
   "metadata": {
    "collapsed": false
   },
   "outputs": [],
   "source": [
    "data_df['Sex'] = data_df['Sex'].replace({'female': 0}, regex = True)\n",
    "data_df['Sex'] = data_df['Sex'].replace({'male': 1}, regex = True)"
   ]
  },
  {
   "cell_type": "markdown",
   "metadata": {},
   "source": [
    "### Gender Results:"
   ]
  },
  {
   "cell_type": "code",
   "execution_count": 366,
   "metadata": {
    "collapsed": false
   },
   "outputs": [
    {
     "data": {
      "text/plain": [
       "54.34"
      ]
     },
     "execution_count": 366,
     "metadata": {},
     "output_type": "execute_result"
    }
   ],
   "source": [
    "correlation(data_df['Survived'], data_df['Sex'])"
   ]
  },
  {
   "cell_type": "markdown",
   "metadata": {},
   "source": [
    "Precentage of civilians from each gender:"
   ]
  },
  {
   "cell_type": "code",
   "execution_count": 367,
   "metadata": {
    "collapsed": false
   },
   "outputs": [
    {
     "name": "stdout",
     "output_type": "stream",
     "text": [
      "Sex (0): 314 people, 35.24%\n",
      "Sex (1): 577 people, 64.76%\n"
     ]
    }
   ],
   "source": [
    "printPortion(0, 2, data_df, 'Sex')"
   ]
  },
  {
   "cell_type": "markdown",
   "metadata": {},
   "source": [
    "Percentage of Survivors and Casualties from each gender:"
   ]
  },
  {
   "cell_type": "code",
   "execution_count": 368,
   "metadata": {
    "collapsed": false
   },
   "outputs": [
    {
     "name": "stdout",
     "output_type": "stream",
     "text": [
      "Sex (0) Survivors: 233 people, 74.20%             Casualties: 81 people, 25.80%\n",
      "Sex (1) Survivors: 109 people, 18.89%             Casualties: 468 people, 81.11%\n"
     ]
    }
   ],
   "source": [
    "printStats(0, 2, data_df, 'Sex')"
   ]
  },
  {
   "cell_type": "markdown",
   "metadata": {},
   "source": [
    "###### Conclusion Based off Gender: \n",
    "Since Pearson's R was about 54.3%, It's obvious that there definitely is a correlation between sex and survivability. It's not as high as I would have expected though. I originally believed that this value would be closer to 60 or 70 percent.\n",
    "\n",
    "Due to this, I reject the null hypothesis, but must say that this does not by any means signify that a person's gender was a causation of their survivability. Instead, there was simply a noticeable correlation between the two. As noted with the printed statistics of the two genders (0 being female and 1 being male), we can easily see that 74% of the females managed to survive whereas only about 20% of the males managed to survive. Not to mention the fact that the males were a majority of the civilians on the Titanic, making the survival rate of women even more astounding.\n",
    "\n",
    "I believe the reason the survival rate of women was so high due to the common saying \"Women and children first.\" It was noble for a man to always prioritize the safety or comfort of women and children. It seems this has applied to the disasterous sinking of the Titanic."
   ]
  },
  {
   "cell_type": "markdown",
   "metadata": {},
   "source": [
    "### Age Results:"
   ]
  },
  {
   "cell_type": "code",
   "execution_count": 369,
   "metadata": {
    "collapsed": false
   },
   "outputs": [
    {
     "data": {
      "text/plain": [
       "7.8"
      ]
     },
     "execution_count": 369,
     "metadata": {},
     "output_type": "execute_result"
    }
   ],
   "source": [
    "correlation(data_df['Survived'], data_df['Age'])"
   ]
  },
  {
   "cell_type": "markdown",
   "metadata": {},
   "source": [
    "###### Conclusion Based off Age: \n",
    "Since Perason's R was only about 7.8%, it seems that the correlation between the two is practically non-existent. I also thought that this value would be much higher considering the graphs had shown some bulking within the 20-30 year range, I suppose the relationship was so small since both graphs had similar behaviors.\n",
    "\n",
    "Due to this, I failed to reject the null hypothesis. The correlation between Age and Survivability was too faint. It should also be noted that this analysis is partially incomplete with the 177 missing data values."
   ]
  },
  {
   "cell_type": "markdown",
   "metadata": {},
   "source": [
    "### Class Results:"
   ]
  },
  {
   "cell_type": "code",
   "execution_count": 370,
   "metadata": {
    "collapsed": false
   },
   "outputs": [
    {
     "data": {
      "text/plain": [
       "33.85"
      ]
     },
     "execution_count": 370,
     "metadata": {},
     "output_type": "execute_result"
    }
   ],
   "source": [
    "correlation(data_df['Survived'], data_df['Pclass'])"
   ]
  },
  {
   "cell_type": "markdown",
   "metadata": {},
   "source": [
    "Precentage of civilians from each class:"
   ]
  },
  {
   "cell_type": "code",
   "execution_count": 371,
   "metadata": {
    "collapsed": false
   },
   "outputs": [
    {
     "name": "stdout",
     "output_type": "stream",
     "text": [
      "Pclass (1): 216 people, 24.24%\n",
      "Pclass (2): 184 people, 20.65%\n",
      "Pclass (3): 491 people, 55.11%\n"
     ]
    }
   ],
   "source": [
    "printPortion(1, 4, data_df, 'Pclass')"
   ]
  },
  {
   "cell_type": "markdown",
   "metadata": {},
   "source": [
    "Precentage of Survivors within their respective class:"
   ]
  },
  {
   "cell_type": "code",
   "execution_count": 372,
   "metadata": {
    "collapsed": false
   },
   "outputs": [
    {
     "name": "stdout",
     "output_type": "stream",
     "text": [
      "Pclass (1) Survivors: 136 people, 62.96%          Casualties: 80 people, 37.04%\n",
      "Pclass (2) Survivors: 87 people, 47.28%           Casualties: 97 people, 52.72%\n",
      "Pclass (3) Survivors: 119 people, 24.24%          Casualties: 372 people, 75.76%\n"
     ]
    }
   ],
   "source": [
    "printStats(1, 4, data_df, 'Pclass')"
   ]
  },
  {
   "cell_type": "markdown",
   "metadata": {},
   "source": [
    "##### Conclusion Based off Class:\n",
    "The correlation between the two data sets only turned out to be about 33.85% which isn't high enough for my standards to reject the Null Hypothesis, however the data within the statistics seems to pronounce the relationship between class and survival. The civilians within the first class had a 62% survival rate which is much higher than second class and third class. What is most shocking is that the people within the third class (although the majority) had the highest casualty rate at over 75%.\n",
    "\n",
    "Reasons for this may include the fact that wealthy people were prioritized for life boats. The wealthy usually manage to get their way by bribing or simply by being important enough. Another reason may be that the location where each respective class resided in directly affected their ability to reach life boats. First class was located in the middle and upper levels of the ship, while third class was at the lower and edges of the boat. "
   ]
  },
  {
   "cell_type": "markdown",
   "metadata": {},
   "source": [
    "## Overall Conclusion\n",
    "\n",
    "There were many limitations in the project which include the missing data, primarily from the age column but also from the Embarked column. This missing data causes incompleteness in the overall result but since this data was ommitted, it is simply a smaller data set than was orignally expected.\n",
    "\n",
    "Also we musn't forget that there usually will always exist some sort of bias in the collection of data. Specifically for this data set, I believe that there could be errors within the collection of it. Since I am unaware of which method was used to retrieve the data, I can not be entirely sure of all the biases that may exist. I also don't believe that everyone who was on the Titanic is accounted for, perhaps people without families also boarded and were never deemed missing. There's also the potential of people who could have snuck on-board who are also not accounted for.\n",
    "\n",
    "To guarantee accurate data is practically impossible, since there are so many variables which may interfere. Overall, within my sampling I feel very confident within my analysis. I also just wanted to add how fun this project was, I thoroughly enjoyed the thinking that was required of me in order to achieve all of these results."
   ]
  },
  {
   "cell_type": "markdown",
   "metadata": {},
   "source": []
  }
 ],
 "metadata": {
  "anaconda-cloud": {},
  "kernelspec": {
   "display_name": "Python [default]",
   "language": "python",
   "name": "python2"
  },
  "language_info": {
   "codemirror_mode": {
    "name": "ipython",
    "version": 2
   },
   "file_extension": ".py",
   "mimetype": "text/x-python",
   "name": "python",
   "nbconvert_exporter": "python",
   "pygments_lexer": "ipython2",
   "version": "2.7.13"
  }
 },
 "nbformat": 4,
 "nbformat_minor": 2
}
